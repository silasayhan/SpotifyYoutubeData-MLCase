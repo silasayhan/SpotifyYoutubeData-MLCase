{
 "cells": [
  {
   "cell_type": "code",
   "execution_count": 114,
   "id": "db4c0807",
   "metadata": {},
   "outputs": [],
   "source": [
    "import numpy as np\n",
    "import pandas as pd\n",
    "import matplotlib.pyplot as plt\n",
    "import seaborn as sns\n",
    "from sklearn.preprocessing import StandardScaler\n",
    "from sklearn.model_selection import train_test_split\n",
    "from sklearn.ensemble import RandomForestClassifier\n",
    "from sklearn.metrics import classification_report, confusion_matrix\n"
   ]
  },
  {
   "cell_type": "code",
   "execution_count": 115,
   "id": "294eeb42",
   "metadata": {},
   "outputs": [
    {
     "data": {
      "text/plain": [
       "' Bir parçanın YouTube’da viral olup olmayacağını tahmin eden bir model geliştiriyorum.\"\\n    Hedef Değişken: Binary (0/1) → Parça viral mi değil mi?\\n    Viral Tanımı: Views > 10 milyon ise 1, değilse 0.\\n    Kullanacağımız Bağımsız değişkenler: Likes, Comments, StreamDanceability, Energy, Valence ve Kategorik Değişkenler (Albüm Tipi, Sanatçı Popülerliği...)\\n'"
      ]
     },
     "execution_count": 115,
     "metadata": {},
     "output_type": "execute_result"
    }
   ],
   "source": [
    "# --- MODEL GELİŞTİRME ---\n",
    "\"\"\" Bir parçanın YouTube’da viral olup olmayacağını tahmin eden bir model geliştiriyorum.\"\n",
    "    Hedef Değişken: Binary (0/1) → Parça viral mi değil mi?\n",
    "    Viral Tanımı: Views > 10 milyon ise 1, değilse 0.\n",
    "    Kullanacağımız Bağımsız değişkenler: Likes, Comments, StreamDanceability, Energy, Valence ve Kategorik Değişkenler (Albüm Tipi, Sanatçı Popülerliği...)\n",
    "\"\"\""
   ]
  },
  {
   "cell_type": "code",
   "execution_count": 116,
   "id": "722c8cd4",
   "metadata": {},
   "outputs": [
    {
     "data": {
      "text/plain": [
       "Index(['unnamed:_0', 'artist', 'url_spotify', 'track', 'album', 'album_type',\n",
       "       'uri', 'danceability', 'energy', 'key', 'loudness', 'speechiness',\n",
       "       'acousticness', 'instrumentalness', 'liveness', 'valence', 'tempo',\n",
       "       'duration_ms', 'url_youtube', 'title', 'channel', 'views', 'likes',\n",
       "       'comments', 'description', 'licensed', 'official_video', 'stream'],\n",
       "      dtype='object')"
      ]
     },
     "execution_count": 116,
     "metadata": {},
     "output_type": "execute_result"
    }
   ],
   "source": [
    "df = pd.read_csv(\"Spotify Youtube Dataset.csv\")\n",
    "\n",
    "# Sütun Adlarını Sadeleştir: Bazı sütunlar fazla boşluk içerebilir veya karmaşık isimlere sahip olabilir. \n",
    "df.columns = df.columns.str.strip().str.lower().str.replace(' ', '_')\n",
    "df.columns\n"
   ]
  },
  {
   "cell_type": "code",
   "execution_count": 117,
   "id": "ba5efb34",
   "metadata": {},
   "outputs": [],
   "source": [
    "# Kategorik Tür Dönüşümü\n",
    "cat_cols = ['album_type', 'channel', 'artist', 'album']\n",
    "for col in cat_cols:\n",
    "    df[col] = df[col].astype('category')\n"
   ]
  },
  {
   "cell_type": "code",
   "execution_count": 118,
   "id": "619fb913",
   "metadata": {},
   "outputs": [
    {
     "data": {
      "text/plain": [
       "unnamed:_0            0\n",
       "artist                0\n",
       "url_spotify           0\n",
       "track                 0\n",
       "album                 0\n",
       "album_type            0\n",
       "uri                   0\n",
       "danceability          2\n",
       "energy                2\n",
       "key                   2\n",
       "loudness              2\n",
       "speechiness           2\n",
       "acousticness          2\n",
       "instrumentalness      2\n",
       "liveness              2\n",
       "valence               2\n",
       "tempo                 2\n",
       "duration_ms           2\n",
       "url_youtube         470\n",
       "title               470\n",
       "channel             470\n",
       "views               470\n",
       "likes               541\n",
       "comments            569\n",
       "description         876\n",
       "licensed            470\n",
       "official_video      470\n",
       "stream              576\n",
       "dtype: int64"
      ]
     },
     "execution_count": 118,
     "metadata": {},
     "output_type": "execute_result"
    }
   ],
   "source": [
    "df.isnull().sum()"
   ]
  },
  {
   "cell_type": "code",
   "execution_count": 119,
   "id": "280889ec",
   "metadata": {},
   "outputs": [],
   "source": [
    "# Küçük eksikleri olan sayısal sütunlar için satırları silelim.\n",
    "numeric_subset = ['danceability', 'energy', 'key', 'loudness', 'speechiness',\n",
    "                  'acousticness', 'instrumentalness', 'liveness',\n",
    "                  'valence', 'tempo', 'duration_ms']\n",
    "df.dropna(subset = numeric_subset, inplace = True)\n",
    "\n",
    "# YouTube ile ilgili sütunlarda eksik varsa, sil.\n",
    "df.dropna(subset = ['url_youtube', 'title', 'channel', 'views'], inplace = True)\n",
    "\n",
    "# Mantıksal sütunları bool tipine çevir ve eksikleri 'False' yap.\n",
    "df['licensed'] = df['licensed'].map({'True': True, 'False': False})\n",
    "df['official_video'] = df['official_video'].map({'True': True, 'False': False})\n",
    "df['licensed'].fillna(False, inplace = True)\n",
    "df['official_video'].fillna(False, inplace = True)\n",
    "\n",
    "# Likes, Comments, Stream, ortanca ile doldur.\n",
    "df['likes'].fillna(df['likes'].median(), inplace = True)\n",
    "df['comments'].fillna(df['comments'].median(), inplace = True)\n",
    "df['stream'].fillna(df['stream'].median(), inplace = True)\n",
    "\n",
    "# İstenmeyen Sütunları Silme\n",
    "df.drop(columns = ['unnamed:_0', 'uri', 'url_spotify', 'url_youtube', 'description', 'title', 'track'], inplace = True)\n"
   ]
  },
  {
   "cell_type": "code",
   "execution_count": 120,
   "id": "5b98a89e",
   "metadata": {},
   "outputs": [
    {
     "data": {
      "text/plain": [
       "artist              0\n",
       "album               0\n",
       "album_type          0\n",
       "danceability        0\n",
       "energy              0\n",
       "key                 0\n",
       "loudness            0\n",
       "speechiness         0\n",
       "acousticness        0\n",
       "instrumentalness    0\n",
       "liveness            0\n",
       "valence             0\n",
       "tempo               0\n",
       "duration_ms         0\n",
       "channel             0\n",
       "views               0\n",
       "likes               0\n",
       "comments            0\n",
       "licensed            0\n",
       "official_video      0\n",
       "stream              0\n",
       "dtype: int64"
      ]
     },
     "execution_count": 120,
     "metadata": {},
     "output_type": "execute_result"
    }
   ],
   "source": [
    "df.isnull().sum()"
   ]
  },
  {
   "cell_type": "code",
   "execution_count": 121,
   "id": "77ae40d1",
   "metadata": {},
   "outputs": [
    {
     "data": {
      "text/plain": [
       "Index(['artist', 'album', 'album_type', 'danceability', 'energy', 'key',\n",
       "       'loudness', 'speechiness', 'acousticness', 'instrumentalness',\n",
       "       'liveness', 'valence', 'tempo', 'duration_ms', 'channel', 'views',\n",
       "       'likes', 'comments', 'licensed', 'official_video', 'stream'],\n",
       "      dtype='object')"
      ]
     },
     "execution_count": 121,
     "metadata": {},
     "output_type": "execute_result"
    }
   ],
   "source": [
    "df.columns"
   ]
  },
  {
   "cell_type": "code",
   "execution_count": 132,
   "id": "d167efcf",
   "metadata": {},
   "outputs": [],
   "source": [
    "# Views > 10 000 000 olanları viral = 1, diğerlerini 0 yap\n",
    "df['viral'] = (df['views'] > 10_000_000).astype(int)"
   ]
  },
  {
   "cell_type": "code",
   "execution_count": 133,
   "id": "a485a917",
   "metadata": {},
   "outputs": [],
   "source": [
    "# Feature Engineering\n",
    "# Like-to-View Oranı\n",
    "df['like_view_ratio'] = df['likes'] / df['views']\n",
    "\n",
    "# Comment-to-View Oranı\n",
    "df['comment_view_ratio'] = df['comments'] / df['views']\n",
    "\n",
    "# Bazı durumlarda izlenme sayısı sıfır olabilir. Sıfıra bölme hatasının önüne geçelim.\n",
    "df['like_view_ratio'].fillna(0, inplace = True)\n",
    "df['comment_view_ratio'].fillna(0, inplace = True)\n"
   ]
  },
  {
   "cell_type": "code",
   "execution_count": 134,
   "id": "629a0281",
   "metadata": {},
   "outputs": [],
   "source": [
    "df_encoded = pd.get_dummies(df, columns = cat_cols, drop_first = True)\n"
   ]
  },
  {
   "cell_type": "code",
   "execution_count": 135,
   "id": "861fca4c",
   "metadata": {},
   "outputs": [],
   "source": [
    "cat_cols = ['album_type', 'channel', 'artist', 'album']\n",
    "df_encoded = pd.get_dummies(df, columns = cat_cols, drop_first = True)\n"
   ]
  },
  {
   "cell_type": "code",
   "execution_count": 136,
   "id": "49885d1c",
   "metadata": {},
   "outputs": [],
   "source": [
    "scaler = StandardScaler()\n",
    "\n",
    "num_cols = ['views', 'likes', 'comments', 'like_view_ratio', 'comment_view_ratio',\n",
    "            'danceability', 'energy', 'key', 'loudness', 'speechiness',\n",
    "            'acousticness', 'instrumentalness', 'liveness', 'valence',\n",
    "            'tempo', 'duration_ms']\n",
    "\n",
    "df_encoded[num_cols] = scaler.fit_transform(df_encoded[num_cols])"
   ]
  },
  {
   "cell_type": "code",
   "execution_count": 137,
   "id": "2fbd2f7c",
   "metadata": {},
   "outputs": [],
   "source": [
    "X = df_encoded.drop('viral', axis = 1)  # Özellikler\n",
    "y = df_encoded['viral'] # Hedef Değişken\n",
    "\n",
    "X_train, X_test, y_train, y_test = train_test_split(X, y, test_size = 0.3, random_state = 42, stratify = y)\n"
   ]
  },
  {
   "cell_type": "code",
   "execution_count": 138,
   "id": "419fa133",
   "metadata": {},
   "outputs": [
    {
     "name": "stdout",
     "output_type": "stream",
     "text": [
      "Series([], dtype: object)\n"
     ]
    }
   ],
   "source": [
    "print(X.dtypes[X.dtypes == 'object'])\n"
   ]
  },
  {
   "cell_type": "code",
   "execution_count": 139,
   "id": "ad3f9340",
   "metadata": {},
   "outputs": [
    {
     "data": {
      "text/html": [
       "<style>#sk-container-id-5 {color: black;background-color: white;}#sk-container-id-5 pre{padding: 0;}#sk-container-id-5 div.sk-toggleable {background-color: white;}#sk-container-id-5 label.sk-toggleable__label {cursor: pointer;display: block;width: 100%;margin-bottom: 0;padding: 0.3em;box-sizing: border-box;text-align: center;}#sk-container-id-5 label.sk-toggleable__label-arrow:before {content: \"▸\";float: left;margin-right: 0.25em;color: #696969;}#sk-container-id-5 label.sk-toggleable__label-arrow:hover:before {color: black;}#sk-container-id-5 div.sk-estimator:hover label.sk-toggleable__label-arrow:before {color: black;}#sk-container-id-5 div.sk-toggleable__content {max-height: 0;max-width: 0;overflow: hidden;text-align: left;background-color: #f0f8ff;}#sk-container-id-5 div.sk-toggleable__content pre {margin: 0.2em;color: black;border-radius: 0.25em;background-color: #f0f8ff;}#sk-container-id-5 input.sk-toggleable__control:checked~div.sk-toggleable__content {max-height: 200px;max-width: 100%;overflow: auto;}#sk-container-id-5 input.sk-toggleable__control:checked~label.sk-toggleable__label-arrow:before {content: \"▾\";}#sk-container-id-5 div.sk-estimator input.sk-toggleable__control:checked~label.sk-toggleable__label {background-color: #d4ebff;}#sk-container-id-5 div.sk-label input.sk-toggleable__control:checked~label.sk-toggleable__label {background-color: #d4ebff;}#sk-container-id-5 input.sk-hidden--visually {border: 0;clip: rect(1px 1px 1px 1px);clip: rect(1px, 1px, 1px, 1px);height: 1px;margin: -1px;overflow: hidden;padding: 0;position: absolute;width: 1px;}#sk-container-id-5 div.sk-estimator {font-family: monospace;background-color: #f0f8ff;border: 1px dotted black;border-radius: 0.25em;box-sizing: border-box;margin-bottom: 0.5em;}#sk-container-id-5 div.sk-estimator:hover {background-color: #d4ebff;}#sk-container-id-5 div.sk-parallel-item::after {content: \"\";width: 100%;border-bottom: 1px solid gray;flex-grow: 1;}#sk-container-id-5 div.sk-label:hover label.sk-toggleable__label {background-color: #d4ebff;}#sk-container-id-5 div.sk-serial::before {content: \"\";position: absolute;border-left: 1px solid gray;box-sizing: border-box;top: 0;bottom: 0;left: 50%;z-index: 0;}#sk-container-id-5 div.sk-serial {display: flex;flex-direction: column;align-items: center;background-color: white;padding-right: 0.2em;padding-left: 0.2em;position: relative;}#sk-container-id-5 div.sk-item {position: relative;z-index: 1;}#sk-container-id-5 div.sk-parallel {display: flex;align-items: stretch;justify-content: center;background-color: white;position: relative;}#sk-container-id-5 div.sk-item::before, #sk-container-id-5 div.sk-parallel-item::before {content: \"\";position: absolute;border-left: 1px solid gray;box-sizing: border-box;top: 0;bottom: 0;left: 50%;z-index: -1;}#sk-container-id-5 div.sk-parallel-item {display: flex;flex-direction: column;z-index: 1;position: relative;background-color: white;}#sk-container-id-5 div.sk-parallel-item:first-child::after {align-self: flex-end;width: 50%;}#sk-container-id-5 div.sk-parallel-item:last-child::after {align-self: flex-start;width: 50%;}#sk-container-id-5 div.sk-parallel-item:only-child::after {width: 0;}#sk-container-id-5 div.sk-dashed-wrapped {border: 1px dashed gray;margin: 0 0.4em 0.5em 0.4em;box-sizing: border-box;padding-bottom: 0.4em;background-color: white;}#sk-container-id-5 div.sk-label label {font-family: monospace;font-weight: bold;display: inline-block;line-height: 1.2em;}#sk-container-id-5 div.sk-label-container {text-align: center;}#sk-container-id-5 div.sk-container {/* jupyter's `normalize.less` sets `[hidden] { display: none; }` but bootstrap.min.css set `[hidden] { display: none !important; }` so we also need the `!important` here to be able to override the default hidden behavior on the sphinx rendered scikit-learn.org. See: https://github.com/scikit-learn/scikit-learn/issues/21755 */display: inline-block !important;position: relative;}#sk-container-id-5 div.sk-text-repr-fallback {display: none;}</style><div id=\"sk-container-id-5\" class=\"sk-top-container\"><div class=\"sk-text-repr-fallback\"><pre>RandomForestClassifier(random_state=42)</pre><b>In a Jupyter environment, please rerun this cell to show the HTML representation or trust the notebook. <br />On GitHub, the HTML representation is unable to render, please try loading this page with nbviewer.org.</b></div><div class=\"sk-container\" hidden><div class=\"sk-item\"><div class=\"sk-estimator sk-toggleable\"><input class=\"sk-toggleable__control sk-hidden--visually\" id=\"sk-estimator-id-5\" type=\"checkbox\" checked><label for=\"sk-estimator-id-5\" class=\"sk-toggleable__label sk-toggleable__label-arrow\">RandomForestClassifier</label><div class=\"sk-toggleable__content\"><pre>RandomForestClassifier(random_state=42)</pre></div></div></div></div></div>"
      ],
      "text/plain": [
       "RandomForestClassifier(random_state=42)"
      ]
     },
     "execution_count": 139,
     "metadata": {},
     "output_type": "execute_result"
    }
   ],
   "source": [
    "rf = RandomForestClassifier(random_state = 42)\n",
    "rf.fit(X_train, y_train)"
   ]
  },
  {
   "cell_type": "code",
   "execution_count": 140,
   "id": "941b48bc",
   "metadata": {},
   "outputs": [
    {
     "name": "stdout",
     "output_type": "stream",
     "text": [
      "[[2709    0]\n",
      " [   3 3363]]\n",
      "              precision    recall  f1-score   support\n",
      "\n",
      "           0       1.00      1.00      1.00      2709\n",
      "           1       1.00      1.00      1.00      3366\n",
      "\n",
      "    accuracy                           1.00      6075\n",
      "   macro avg       1.00      1.00      1.00      6075\n",
      "weighted avg       1.00      1.00      1.00      6075\n",
      "\n"
     ]
    }
   ],
   "source": [
    "y_pred = rf.predict(X_test)\n",
    "\n",
    "print(confusion_matrix(y_test, y_pred))\n",
    "print(classification_report(y_test, y_pred))\n"
   ]
  }
 ],
 "metadata": {
  "kernelspec": {
   "display_name": "base",
   "language": "python",
   "name": "python3"
  },
  "language_info": {
   "codemirror_mode": {
    "name": "ipython",
    "version": 3
   },
   "file_extension": ".py",
   "mimetype": "text/x-python",
   "name": "python",
   "nbconvert_exporter": "python",
   "pygments_lexer": "ipython3",
   "version": "3.11.7"
  }
 },
 "nbformat": 4,
 "nbformat_minor": 5
}
